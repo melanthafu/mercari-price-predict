{
 "cells": [
  {
   "cell_type": "code",
   "execution_count": null,
   "metadata": {
    "collapsed": true
   },
   "outputs": [],
   "source": [
    "## run sparse input in keras\n",
    "## from https://www.kaggle.com/luisgarcia/keras-nn-with-parallelized-batch-training/comments#271137\n",
    "\n",
    "def define_model(sparse = True, dropout_rate = 0.15):\n",
    "    np.random.seed(7)                                              \n",
    "    x = keras.layers.Input(\n",
    "        shape = (X_train.shape[1], ), \n",
    "        dtype = 'float32', \n",
    "        sparse = sparse)     \n",
    "    d1 = Dense(25,\n",
    "               kernel_initializer='normal',\n",
    "               activation='relu',\n",
    "               #kernel_regularizer=regularizers.l2(0.01),\n",
    "               #activity_regularizer=regularizers.l1(0.01),\n",
    "              )(x)\n",
    "    d2 = Dense(10, kernel_initializer='normal', activation='relu')(d1)\n",
    "    d3 = Dropout(dropout_rate)(d2)\n",
    "    out= Dense(1, kernel_initializer='normal')(d3)\n",
    "    model = keras.models.Model(x,out)\n",
    "    model.summary()\n",
    "    return model"
   ]
  }
 ],
 "metadata": {
  "kernelspec": {
   "display_name": "Python 2",
   "language": "python",
   "name": "python2"
  },
  "language_info": {
   "codemirror_mode": {
    "name": "ipython",
    "version": 2
   },
   "file_extension": ".py",
   "mimetype": "text/x-python",
   "name": "python",
   "nbconvert_exporter": "python",
   "pygments_lexer": "ipython2",
   "version": "2.7.13"
  }
 },
 "nbformat": 4,
 "nbformat_minor": 2
}
